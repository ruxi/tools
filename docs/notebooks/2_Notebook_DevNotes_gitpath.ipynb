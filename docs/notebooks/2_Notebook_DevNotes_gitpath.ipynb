{
 "cells": [
  {
   "cell_type": "code",
   "execution_count": 1,
   "metadata": {
    "ExecuteTime": {
     "end_time": "2016-11-03T16:06:01.103072",
     "start_time": "2016-11-03T16:06:01.097338"
    },
    "collapsed": true
   },
   "outputs": [],
   "source": [
    "# %%bash\n",
    "# git add --all :/\n",
    "# git commit -a -m 'bugfix: _root() otherwise name conflict between attribute and callable'"
   ]
  },
  {
   "cell_type": "code",
   "execution_count": 2,
   "metadata": {
    "ExecuteTime": {
     "end_time": "2016-11-03T16:06:01.222669",
     "start_time": "2016-11-03T16:06:01.105499"
    },
    "collapsed": false,
    "run_control": {
     "marked": true
    }
   },
   "outputs": [
    {
     "name": "stdout",
     "output_type": "stream",
     "text": [
      "Thu Nov  3 16:06:01 CDT 2016\r\n"
     ]
    }
   ],
   "source": [
    "!date #last update"
   ]
  },
  {
   "cell_type": "code",
   "execution_count": 3,
   "metadata": {
    "ExecuteTime": {
     "end_time": "2016-11-03T16:06:01.260805",
     "start_time": "2016-11-03T16:06:01.226653"
    },
    "code_folding": [
     0
    ],
    "collapsed": false
   },
   "outputs": [
    {
     "data": {
      "text/plain": [
       "'/home/lewis/git/tools'"
      ]
     },
     "execution_count": 3,
     "metadata": {},
     "output_type": "execute_result"
    }
   ],
   "source": [
    "# Change work directory to project root\n",
    "\n",
    "import gitpath #pip install git+https://github.com/ruxi/python-gitpath.git\n",
    "import os.path\n",
    "rootpath = gitpath.root()\n",
    "os.chdir(rootpath)\n",
    "os.getcwd()"
   ]
  },
  {
   "cell_type": "markdown",
   "metadata": {
    "run_control": {
     "marked": true
    }
   },
   "source": [
    "## DevNotes: gitpath\n",
    "\n",
    "created: Thu Nov  3 00:45:51 CDT 2016\n",
    "\n",
    "Gitpath by Maximilian Nöthe is a function that return the git repo's root directory. Source code here:  \n",
    "\n",
    "     https://github.com/MaxNoe/python-gitpath\n",
    "     \n",
    "This notebook describes adding gitpath into ruxitools. Currently gitpath is not on pypi, which adds complexity when trying to reproduce an anaconda environment with it included in the environment.yml\n"
   ]
  },
  {
   "cell_type": "code",
   "execution_count": 4,
   "metadata": {
    "ExecuteTime": {
     "end_time": "2016-11-03T16:06:01.268372",
     "start_time": "2016-11-03T16:06:01.263821"
    },
    "collapsed": false
   },
   "outputs": [],
   "source": [
    "os.makedirs(os.path.join('ruxitools','gitpath'), exist_ok=True)"
   ]
  },
  {
   "cell_type": "code",
   "execution_count": null,
   "metadata": {
    "ExecuteTime": {
     "end_time": "2016-11-03T16:06:01.275781",
     "start_time": "2016-11-03T16:06:01.271418"
    },
    "collapsed": false
   },
   "outputs": [],
   "source": [
    "# %load ruxitools/gitpath/__init__.py\n",
    "#!/usr/bin/env python \n",
    "\n",
    "# The MIT License (MIT)\n",
    "\n",
    "# Copyright (c) 2015 Maximilian Nöthe\n",
    "# https://github.com/MaxNoe/python-gitpath\n",
    "\n",
    "# Permission is hereby granted, free of charge, to any person obtaining a copy\n",
    "# of this software and associated documentation files (the \"Software\"), to deal\n",
    "# in the Software without restriction, including without limitation the rights\n",
    "# to use, copy, modify, merge, publish, distribute, sublicense, and/or sell\n",
    "# copies of the Software, and to permit persons to whom the Software is\n",
    "# furnished to do so, subject to the following conditions:\n",
    "\n",
    "# The above copyright notice and this permission notice shall be included in all\n",
    "# copies or substantial portions of the Software.\n",
    "\n",
    "# THE SOFTWARE IS PROVIDED \"AS IS\", WITHOUT WARRANTY OF ANY KIND, EXPRESS OR\n",
    "# IMPLIED, INCLUDING BUT NOT LIMITED TO THE WARRANTIES OF MERCHANTABILITY,\n",
    "# FITNESS FOR A PARTICULAR PURPOSE AND NONINFRINGEMENT. IN NO EVENT SHALL THE\n",
    "# AUTHORS OR COPYRIGHT HOLDERS BE LIABLE FOR ANY CLAIM, DAMAGES OR OTHER\n",
    "# LIABILITY, WHETHER IN AN ACTION OF CONTRACT, TORT OR OTHERWISE, ARISING FROM,\n",
    "# OUT OF OR IN CONNECTION WITH THE SOFTWARE OR THE USE OR OTHER DEALINGS IN THE\n",
    "# SOFTWARE.\n",
    "\n",
    "from subprocess import check_output, CalledProcessError\n",
    "from functools import lru_cache\n",
    "import os.path\n",
    "\n",
    "\n",
    "@lru_cache(maxsize=1)\n",
    "def root():\n",
    "    ''' returns the absolute path of the repository root '''\n",
    "    try:\n",
    "        base = check_output(['git', 'rev-parse', '--show-toplevel'])\n",
    "    except CalledProcessError:\n",
    "        raise IOError('Current working directory is not a git repository')\n",
    "    return base.decode('utf-8').strip()\n",
    "\n",
    "def abspath(relpath):\n",
    "    ''' returns the absolute path for a path given relative to the root of\n",
    "    the git repository\n",
    "    '''\n",
    "    return os.path.join(root(), relpath)\n",
    "\n"
   ]
  }
 ],
 "metadata": {
  "_draft": {
   "nbviewer_url": "https://gist.github.com/db52a47816c1f27d4191ecaf0147db6c"
  },
  "gist": {
   "data": {
    "description": "[Function] XyDB.ipynb",
    "public": false
   },
   "id": "db52a47816c1f27d4191ecaf0147db6c"
  },
  "hide_input": false,
  "kernelspec": {
   "display_name": "pythonpath (python)",
   "language": "python",
   "name": "pythonpathkernel"
  },
  "language_info": {
   "codemirror_mode": {
    "name": "ipython",
    "version": 3
   },
   "file_extension": ".py",
   "mimetype": "text/x-python",
   "name": "python",
   "nbconvert_exporter": "python",
   "pygments_lexer": "ipython3",
   "version": "3.5.2"
  },
  "latex_envs": {
   "bibliofile": "biblio.bib",
   "cite_by": "apalike",
   "current_citInitial": 1,
   "eqLabelWithNumbers": true,
   "eqNumInitial": 0
  },
  "nav_menu": {
   "height": "899px",
   "width": "484px"
  },
  "toc": {
   "navigate_menu": true,
   "number_sections": true,
   "sideBar": true,
   "threshold": 6,
   "toc_cell": false,
   "toc_section_display": "block",
   "toc_window_display": true
  },
  "toc_position": {
   "height": "1180px",
   "left": "0px",
   "right": "2175px",
   "top": "107px",
   "width": "385px"
  }
 },
 "nbformat": 4,
 "nbformat_minor": 0
}
