{
 "cells": [
  {
   "cell_type": "code",
   "execution_count": 2,
   "metadata": {
    "ExecuteTime": {
     "end_time": "2016-11-03T16:07:19.351086",
     "start_time": "2016-11-03T16:07:19.345690"
    },
    "collapsed": false
   },
   "outputs": [],
   "source": [
    "%%bash\n",
    "git add --all :/\n",
    "git commit -a -m 'fixed bug that prevented overwriting old records'"
   ]
  },
  {
   "cell_type": "code",
   "execution_count": 3,
   "metadata": {
    "ExecuteTime": {
     "end_time": "2016-11-03T16:07:20.614180",
     "start_time": "2016-11-03T16:07:20.496139"
    },
    "collapsed": false,
    "run_control": {
     "marked": true
    }
   },
   "outputs": [
    {
     "name": "stdout",
     "output_type": "stream",
     "text": [
      "Thu Nov  3 16:07:20 CDT 2016\r\n"
     ]
    }
   ],
   "source": [
    "!date #last update"
   ]
  },
  {
   "cell_type": "code",
   "execution_count": 4,
   "metadata": {
    "ExecuteTime": {
     "end_time": "2016-11-03T16:07:20.972272",
     "start_time": "2016-11-03T16:07:20.940845"
    },
    "code_folding": [
     0
    ],
    "collapsed": false
   },
   "outputs": [
    {
     "data": {
      "text/plain": [
       "'/home/lewis/git/tools'"
      ]
     },
     "execution_count": 4,
     "metadata": {},
     "output_type": "execute_result"
    }
   ],
   "source": [
    "# Change work directory to project root\n",
    "\n",
    "import gitpath #pip install git+https://github.com/ruxi/python-gitpath.git\n",
    "import os.path\n",
    "rootpath = gitpath.root()\n",
    "os.chdir(rootpath)\n",
    "os.getcwd()"
   ]
  },
  {
   "cell_type": "markdown",
   "metadata": {},
   "source": [
    "### update changes to pypi"
   ]
  },
  {
   "cell_type": "markdown",
   "metadata": {
    "ExecuteTime": {
     "end_time": "2016-11-03T16:07:39.464598",
     "start_time": "2016-11-03T16:07:39.458404"
    },
    "collapsed": false
   },
   "source": [
    "```bash\n",
    "#update pypi\n",
    "rm -r dist                  # remove old source files\n",
    "python setup.py sdist       # make source distribution\n",
    "python setup.py bdist_wheel # make build distribution with *.whl file\n",
    "twine upload dist/* #       pip install twine\n",
    "```"
   ]
  },
  {
   "cell_type": "code",
   "execution_count": 10,
   "metadata": {
    "ExecuteTime": {
     "end_time": "2016-11-03T16:08:07.579037",
     "start_time": "2016-11-03T16:08:07.460813"
    },
    "collapsed": false
   },
   "outputs": [
    {
     "name": "stdout",
     "output_type": "stream",
     "text": [
      "ruxitools-0.2.4-py3-none-any.whl  \u001b[0m\u001b[01;31mruxitools-0.2.4.tar.gz\u001b[0m\r\n"
     ]
    }
   ],
   "source": [
    "%ls dist"
   ]
  },
  {
   "cell_type": "markdown",
   "metadata": {
    "run_control": {
     "marked": true
    }
   },
   "source": [
    "# DevNotes: XyDB.py\n",
    "\n",
    "created: Fri Oct 21 13:16:57 CDT 2016\n",
    "            \n",
    "author: github.com/ruxi\n",
    "\n",
    "\n",
    "This notebook was used to construct this repo"
   ]
  },
  {
   "cell_type": "markdown",
   "metadata": {
    "run_control": {
     "marked": true
    }
   },
   "source": [
    "## Purpose"
   ]
  },
  {
   "cell_type": "markdown",
   "metadata": {
    "run_control": {
     "marked": true
    }
   },
   "source": [
    "**XyDB** is a database-like containers for derivative data\n",
    "\n",
    "     The intended usecase of XyDB is to store dervative data in a database-like\n",
    "     container and bind it as an attribute to the source data. It solves the\n",
    "     problem of namespace pollution by confining intermediate data forms to\n",
    "     the original dataset in a logical and structured manner. The limitation\n",
    "     of this object is that it exists in memory only. For more persistent storage\n",
    "     solutions, its recommended to use an actual database library such as\n",
    "     blaze, mongoDB, or SQLite. Conversely, the advantage is residual information\n",
    "     is not left over after a session. \n",
    "     \n",
    "     \n"
   ]
  },
  {
   "cell_type": "markdown",
   "metadata": {
    "ExecuteTime": {
     "end_time": "2016-10-21T13:21:13.693387",
     "start_time": "2016-10-21T13:21:13.688217"
    },
    "run_control": {
     "marked": true
    }
   },
   "source": [
    "## Specifications"
   ]
  },
  {
   "cell_type": "markdown",
   "metadata": {
    "run_control": {
     "marked": true
    }
   },
   "source": [
    "- **keys** (list): list keywords for all records (names for intermediate data configurations)\n",
    "\n",
    "- **push** (func): Adds record to database\n",
    "\n",
    "- **pull** (func): Pulls record from database (ducktyped)\n",
    "\n",
    "           Records are accessible via attributes by keyname \n",
    "           Returns dictionary records\n",
    "\n",
    "           pull.<config keyword>\n",
    "\n",
    "- **show** (func): Show record from database. (ducktyped)\n",
    "               Records are accessible via attributes by keyname \n",
    "               Returns namedtuple objects based on db records.\n",
    "\n",
    "               show.<config keyword>.<attribute name>          \n"
   ]
  },
  {
   "cell_type": "markdown",
   "metadata": {
    "ExecuteTime": {
     "end_time": "2016-10-27T13:46:34.468657",
     "start_time": "2016-10-27T13:46:34.456067"
    },
    "run_control": {
     "marked": true
    }
   },
   "source": [
    "## Project architecture\n",
    "\n",
    "[Structure of the repository according to The Hitchhiker's Guide to Python](http://docs.python-guide.org/en/latest/writing/structure/#structure-of-the-repository)\n",
    "\n",
    "[Target directory sturcture](http://stackoverflow.com/questions/1896918/running-unittest-with-typical-test-directory-structure)\n",
    "\n",
    "    |-- LISCENSE\n",
    "    |-- README.md\n",
    "    |-- setup.py\n",
    "    |-- requirements.txt\n",
    "    |-- Makefile\n",
    "    |-- .gitignore\n",
    "    |-- docs/\n",
    "        |-- notebooks/\n",
    "        \n",
    "    |-- ruxitools/\n",
    "        |-- __init__.py\n",
    "            |-- xydb/\n",
    "                |-- __init__.py\n",
    "                |-- XyDB.py\n",
    "    |-- test/\n",
    "        |-- __init__.py\n",
    "        |-- test_XyDB.py\n"
   ]
  },
  {
   "cell_type": "markdown",
   "metadata": {
    "run_control": {
     "marked": true
    }
   },
   "source": [
    "## Writing guides"
   ]
  },
  {
   "cell_type": "markdown",
   "metadata": {
    "run_control": {
     "marked": true
    }
   },
   "source": [
    "### Python docstrings styles "
   ]
  },
  {
   "cell_type": "markdown",
   "metadata": {},
   "source": [
    "Some resources on documentation conventions"
   ]
  },
  {
   "cell_type": "markdown",
   "metadata": {
    "run_control": {
     "marked": true
    }
   },
   "source": [
    "Programs: \n",
    "\n",
    "```bash\n",
    "pip install sphinxcontrib-napoleon\n",
    "```"
   ]
  },
  {
   "cell_type": "markdown",
   "metadata": {
    "run_control": {
     "marked": true
    }
   },
   "source": [
    "Guides: \n",
    "* [Google Python Style Guide](http://google.github.io/styleguide/pyguide.html)"
   ]
  },
  {
   "cell_type": "markdown",
   "metadata": {
    "run_control": {
     "marked": true
    }
   },
   "source": [
    "### Unit Tests"
   ]
  },
  {
   "cell_type": "markdown",
   "metadata": {
    "run_control": {
     "marked": true
    }
   },
   "source": [
    "Guides on how to write unit tests:"
   ]
  },
  {
   "cell_type": "markdown",
   "metadata": {
    "run_control": {
     "marked": true
    }
   },
   "source": [
    "http://nedbatchelder.com/text/test0.html\n",
    "\n",
    "https://cgoldberg.github.io/python-unittest-tutorial/"
   ]
  },
  {
   "cell_type": "markdown",
   "metadata": {
    "run_control": {
     "marked": true
    }
   },
   "source": [
    "### Packaging and distribution\n",
    "\n",
    "[packaging.python.org](https://packaging.python.org/distributing/)\n",
    "\n",
    "[python-packaging readthedocs](https://python-packaging.readthedocs.io/en/latest/)\n",
    "\n",
    "##### setup.py\n",
    "\n",
    "See [minimal example](https://python-packaging.readthedocs.io/en/latest/minimal.html)\n"
   ]
  },
  {
   "cell_type": "markdown",
   "metadata": {},
   "source": [
    "## Module implmentation"
   ]
  },
  {
   "cell_type": "markdown",
   "metadata": {
    "ExecuteTime": {
     "end_time": "2016-10-27T15:09:30.811983",
     "start_time": "2016-10-27T15:09:30.806341"
    }
   },
   "source": [
    "### Create directory tree"
   ]
  },
  {
   "cell_type": "code",
   "execution_count": 13,
   "metadata": {
    "ExecuteTime": {
     "end_time": "2016-11-03T16:08:43.377213",
     "start_time": "2016-11-03T16:08:43.368858"
    },
    "collapsed": false,
    "run_control": {
     "marked": true
    }
   },
   "outputs": [],
   "source": [
    "import os.path\n",
    "\n",
    "# create folder if doesn't exist\n",
    "folders = ['ruxitools', 'tests']\n",
    "for x in folders:\n",
    "    os.makedirs(x, exist_ok=True) "
   ]
  },
  {
   "cell_type": "code",
   "execution_count": 14,
   "metadata": {
    "ExecuteTime": {
     "end_time": "2016-11-03T16:08:44.851570",
     "start_time": "2016-11-03T16:08:44.685298"
    },
    "collapsed": false
   },
   "outputs": [
    {
     "name": "stdout",
     "output_type": "stream",
     "text": [
      ".\r\n",
      "├── build\r\n",
      "│   ├── bdist.linux-x86_64\r\n",
      "│   └── lib\r\n",
      "│       └── ruxitools\r\n",
      "│           ├── __init__.py\r\n",
      "│           └── xydb.py\r\n",
      "├── dist\r\n",
      "│   ├── ruxitools-0.2.4-py3-none-any.whl\r\n",
      "│   └── ruxitools-0.2.4.tar.gz\r\n",
      "├── docs\r\n",
      "│   └── notebooks\r\n",
      "│       ├── 1_Notebook_DevNotes_gitpath.ipynb\r\n",
      "│       └── 1_Notebook_DevNotes_XyDB.ipynb\r\n",
      "├── LICENSE\r\n",
      "├── MANIFEST.in\r\n",
      "├── README.md\r\n",
      "├── requirements.txt\r\n",
      "├── ruxitools\r\n",
      "│   ├── gitpath\r\n",
      "│   │   └── __init__.py\r\n",
      "│   ├── __init__.py\r\n",
      "│   ├── tests\r\n",
      "│   └── xydb.py\r\n",
      "├── ruxitools.egg-info\r\n",
      "│   ├── dependency_links.txt\r\n",
      "│   ├── PKG-INFO\r\n",
      "│   ├── SOURCES.txt\r\n",
      "│   └── top_level.txt\r\n",
      "├── setup.py\r\n",
      "├── src\r\n",
      "│   ├── pip-delete-this-directory.txt\r\n",
      "│   └── python-gitpath.git\r\n",
      "│       ├── gitpath\r\n",
      "│       │   └── __init__.py\r\n",
      "│       ├── gitpath.egg-info\r\n",
      "│       │   ├── dependency_links.txt\r\n",
      "│       │   ├── PKG-INFO\r\n",
      "│       │   ├── SOURCES.txt\r\n",
      "│       │   └── top_level.txt\r\n",
      "│       ├── LICENSE\r\n",
      "│       ├── README.md\r\n",
      "│       └── setup.py\r\n",
      "└── tests\r\n",
      "    └── test_xydb.py\r\n",
      "\r\n",
      "18 directories, 31 files\r\n"
     ]
    }
   ],
   "source": [
    "!tree | grep -v __pycache__ | grep -v .cpython  #hides grep'd keywords"
   ]
  },
  {
   "cell_type": "markdown",
   "metadata": {
    "run_control": {
     "marked": true
    }
   },
   "source": [
    "### The Code"
   ]
  },
  {
   "cell_type": "code",
   "execution_count": null,
   "metadata": {
    "ExecuteTime": {
     "end_time": "2016-11-03T16:09:27.365984",
     "start_time": "2016-11-03T16:09:27.358875"
    },
    "collapsed": false
   },
   "outputs": [],
   "source": [
    "# %load ruxitools/__init__.py\n",
    " "
   ]
  },
  {
   "cell_type": "markdown",
   "metadata": {
    "ExecuteTime": {
     "end_time": "2016-10-27T23:55:25.211535",
     "start_time": "2016-10-27T23:55:25.209901"
    }
   },
   "source": [
    "#### Main"
   ]
  },
  {
   "cell_type": "code",
   "execution_count": null,
   "metadata": {
    "ExecuteTime": {
     "end_time": "2016-11-03T16:09:37.329602",
     "start_time": "2016-11-03T16:09:37.177796"
    },
    "collapsed": false,
    "run_control": {
     "marked": true
    }
   },
   "outputs": [],
   "source": [
    "# %load ruxitools/xydb.py\n",
    "#!/usr/bin/env python \n",
    "__author__ = \"github.com/ruxi\"\n",
    "__copyright__ = \"Copyright 2016, ruxitools\"\n",
    "__email__ = \"ruxi.github@gmail.com\"\n",
    "__license__ = \"MIT\"\n",
    "__status__ = \"Development\"\n",
    "__version__ = \"0.1\"\n",
    "\n",
    "from collections import namedtuple\n",
    "class XyDB(object):\n",
    "    \"\"\"XyDB is a database-like containers for intermediate data\n",
    "\n",
    "     The intended usecase of XyDB is to store intermediate data in a database-like\n",
    "     container and bind it as an attribute to the source data. It solves the\n",
    "     problem of namespace pollution by confining intermediate data forms to\n",
    "     the original dataset in a logical and structured manner. The limitation\n",
    "     of this object is that it exists in memory only. For more persistent storage\n",
    "     solutions, its recommended to use an actual database library such as\n",
    "     blaze, mongoDB, or SQLite. Conversely, the advantage is residual information\n",
    "     is not left over after a session. \n",
    "     \n",
    "    \n",
    "     Example:\n",
    "        Defined a namedtuple for input validation, then assign this function \n",
    "        as an attribute of your source data object, usually a pandas dataframe.\n",
    "        \n",
    "          import XyDB\n",
    "          from collections import namedtuple\n",
    "          \n",
    "          # define input validation schema\n",
    "          input_val = namedtuple(\"data\", ['key','desc', 'X', 'y'])\n",
    "\n",
    "          # define data\n",
    "          myData = pd.DataFrame()\n",
    "          \n",
    "          # assign class function\n",
    "          myData.Xy = XyDB(input_val, verbose = True)  \n",
    "          \n",
    "          # add data to DB\n",
    "          myRecord = dict(key='config1'\n",
    "                          , desc='dummydata'\n",
    "                          , X=[0,1,0]\n",
    "                          , y=['a','b','a])\n",
    "          myData.Xy.push(**myRecord)\n",
    "          \n",
    "          # show data\n",
    "          myData.Xy.config1.desc       \n",
    "\n",
    "    \"\"\"\n",
    "    \n",
    "    def __init__(self, schema = None, verbose=True, welcome=True):\n",
    "        \"\"\"\n",
    "        Arguments:\n",
    "            schema (default: None | NamedTuple):\n",
    "                 \n",
    "                Accepts a NamedTuple subclass with a \"key\" field\n",
    "                which is used for input validation when records\n",
    "                are \"push\"ed \n",
    "            \n",
    "\n",
    "            verbose (default: True | boolean)\n",
    "                \n",
    "                If false, suppresses print commands. Including this message\n",
    "                \n",
    "            welcome (default: True | boolean)\n",
    "            \n",
    "                Suppresses printing of the docstring upon initialization\n",
    "        \"\"\"\n",
    "        \n",
    "        \n",
    "        \n",
    "        self._db = {}\n",
    "        self._show = lambda: None\n",
    "        self._pull = lambda: None\n",
    "        self._verbose = verbose\n",
    "        \n",
    "        # print docstring\n",
    "        if welcome:\n",
    "            print (self.__doc__)\n",
    "\n",
    "        \n",
    "        # Input Validation (optional) can be spec'd out by NameTuple. \n",
    "        # Input NamedTuple requires 'key' field\n",
    "        self._schema = False if schema is None else schema \n",
    "        if self._schema: \n",
    "            if \"key\" not in dir(self._schema):\n",
    "                raise Exception(\"namedtuple must have 'key' as a field\")\n",
    "        \n",
    "\n",
    "    #@db.setter\n",
    "    def push(self, key, *args, **kwargs):\n",
    "        \"\"\"Adds records (dict) to database\"\"\"\n",
    "        if not(type(key)==str):\n",
    "            raise Exception('key must be string')\n",
    "            \n",
    "        # Create database record entry (a dict)\n",
    "        if self._schema: # is user-defined \n",
    "            self._input_validator = self._schema          \n",
    "            record =  self._input_validator(key, *args,**kwargs)\n",
    "            \n",
    "        else: # the schema is inferred from every push   \n",
    "            entry_dict = dict(key=key, *args,**kwargs)\n",
    "            self._input_validator = namedtuple('Data', list(entry_dict.keys()))\n",
    "            record = self._input_validator(**entry_dict)\n",
    "        \n",
    "        # The record is added to the database.\n",
    "        self._db[record.key] = record\n",
    "        if self._verbose:\n",
    "            print('Record added {}'.format(record.key))\n",
    "        self._update()\n",
    "        \n",
    "    def _update(self):\n",
    "        \"\"\"updates dyanamic attribute access for self.show & self.pull\"\"\"\n",
    "        for key in self.keys:\n",
    "            # self.show.<key> = namedtuple\n",
    "            setattr(self._show\n",
    "                    , key\n",
    "                    , self._db[key]\n",
    "                   )     \n",
    "            # self.pull.<key> = dict\n",
    "            setattr(self._pull,\n",
    "                    key,\n",
    "                    self.db[key]._asdict() \n",
    "                   ) \n",
    "    @property\n",
    "    def db(self):\n",
    "        \"\"\"Intermediate data accessible by keyword. Returns a dict\"\"\"\n",
    "        return self._db               \n",
    "                \n",
    "    @property\n",
    "    def keys(self):\n",
    "        \"\"\"\n",
    "        list configuration keywords\n",
    "        \n",
    "        Returns:\n",
    "            list\n",
    "        \"\"\"\n",
    "        return self.db.keys()\n",
    "    \n",
    "    @property\n",
    "    def show(self):\n",
    "        \"\"\"\n",
    "        Show record from database. Accessible by attribute via keyname\n",
    "        \n",
    "        Returns:\n",
    "            namedtuple objects  \n",
    "        Usage: \n",
    "            show.<config keyword>.<attribute name>          \n",
    "        \"\"\"\n",
    "        return self._show\n",
    "        \n",
    "    @property\n",
    "    def pull(self):\n",
    "        \"\"\"\n",
    "        Pull record from database. Accessible by attribute via keyname\n",
    "           \n",
    "        Returns:\n",
    "            dictionary \n",
    "        Usage: \n",
    "            pull.<config keyword>\n",
    "        \"\"\"\n",
    "        return self._pull        "
   ]
  },
  {
   "cell_type": "markdown",
   "metadata": {
    "ExecuteTime": {
     "end_time": "2016-10-27T23:29:25.867071",
     "start_time": "2016-10-27T23:29:25.865315"
    }
   },
   "source": [
    "#### Unit Tests"
   ]
  },
  {
   "cell_type": "code",
   "execution_count": null,
   "metadata": {
    "ExecuteTime": {
     "end_time": "2016-11-03T16:10:13.961577",
     "start_time": "2016-11-03T16:10:13.422226"
    },
    "collapsed": false,
    "run_control": {
     "marked": false
    }
   },
   "outputs": [],
   "source": [
    "# %load tests/test_xydb.py\n",
    "__author__ = \"github.com/ruxi\"\n",
    "__copyright__ = \"Copyright 2016, ruxitools\"\n",
    "__email__ = \"ruxi.github@gmail.com\"\n",
    "__license__ = \"MIT\"\n",
    "__status__ = \"Development\"\n",
    "__version__ = \"0.1\"\n",
    "\n",
    "import unittest \n",
    "import collections\n",
    "from ruxitools.xydb import XyDB\n",
    "\n",
    "class TestXydb(unittest.TestCase):\n",
    "    \"\"\"test if unittest works\"\"\"   \n",
    "    ############\n",
    "    #  set-up  #\n",
    "    ############\n",
    "    def dummycase(self):\n",
    "        # dummy record \n",
    "        key = 'dummy0'\n",
    "        desc = 'test case'\n",
    "        X = [1,2,3,4]\n",
    "        y = ['a','b','c','d']\n",
    "        return dict(key=key, desc=desc, X=X, y=y)       \n",
    "    \n",
    "    def badcase_nokey(self):\n",
    "        desc = 'test case'\n",
    "        X = [1,2,3,4]\n",
    "        return dict(desc=desc, X=X) \n",
    " \n",
    "    def badcase_KeyNotStr(self):\n",
    "        key = [1,2,3,4]\n",
    "        X = \"x is a str\"\n",
    "        return dict(jey=key, X=X) \n",
    "    \n",
    "    def mockschema(self):\n",
    "        input_validation = collections.namedtuple(\"Xy\", ['key','desc', 'X', 'y'])\n",
    "        return input_validation\n",
    "    \n",
    "    def push_record_noschema(self, record):\n",
    "        xy = XyDB(verbose=False)\n",
    "        xy.push(**record)\n",
    "        return xy\n",
    "    \n",
    "    def push_record_w_schema(self, record, schema):\n",
    "        xy = XyDB(schema=schema, verbose=False)\n",
    "        xy.push(**record)\n",
    "        return xy\n",
    "    \n",
    "    ###########\n",
    "    #  TESTS  #\n",
    "    ###########\n",
    "    \n",
    "    def test_positive_control(self):\n",
    "        self.assertTrue(True)\n",
    "        \n",
    "    def test_init_args(self):\n",
    "        xy = XyDB()\n",
    "        xy = XyDB(verbose=False)\n",
    "        xy = XyDB(verbose=True)\n",
    "\n",
    "    def test_PushRecord_NoSchema(self):\n",
    "        record = self.dummycase()\n",
    "        self.push_record_noschema(record)\n",
    "   \n",
    "    def test_PushRecord_WithSchema(self):\n",
    "        record = self.dummycase()\n",
    "        schema = self.mockschema()\n",
    "        self.push_record_w_schema(record=record, schema=schema)\n",
    "         \n",
    "    def test_PushRecord_NoKey(self):\n",
    "        \"\"\"negative test\"\"\"\n",
    "        record = self.badcase_nokey()\n",
    "        with self.assertRaises(TypeError):\n",
    "             self.push_record_noschema(record)\n",
    "                \n",
    "    def test_PushRecord_KeyNotStr(self):\n",
    "        \"\"\"negative test\"\"\"\n",
    "        record = self.badcase_KeyNotStr()\n",
    "        with self.assertRaises(TypeError):\n",
    "             self.push_record_noschema(record)\n",
    "                \n",
    "    def test_ShowRecord(self):\n",
    "        record = self.dummycase()\n",
    "        xy = self.push_record_noschema(record)\n",
    "        getattr(xy.show, record['key'])\n",
    "                \n",
    "    def test_ShowRecord_NonExistKey(self):\n",
    "        \"\"\"negative test\"\"\"\n",
    "        record = self.dummycase()\n",
    "        key = record['key'] + \"spike\"\n",
    "        xy = self.push_record_noschema(record)\n",
    "        with self.assertRaises(KeyError):\n",
    "            getattr(xy.show, record[key])\n",
    "            \n",
    "    def test_PullRecord(self):\n",
    "        record = self.dummycase()\n",
    "        xy = self.push_record_noschema(record)\n",
    "        getattr(xy.pull, record['key'])\n",
    "                \n",
    "    def test_PullRecord_NonExistKey(self):\n",
    "        \"\"\"negative test\"\"\"\n",
    "        record = self.dummycase()\n",
    "        key = record['key'] + \"spike\"\n",
    "        xy = self.push_record_noschema(record)\n",
    "        with self.assertRaises(KeyError):\n",
    "            getattr(xy.pull, record[key])   \n",
    "    \n",
    "    def test_keys_NoRecords(self):\n",
    "        \"\"\"is dict_keys returned\"\"\"\n",
    "        xy = XyDB()\n",
    "        xy.keys\n",
    "        self.assertTrue(type(xy.keys)==type({}.keys())\n",
    "                        , \"Expecting dict_keys, instead got {}\".format(type(xy.keys))\n",
    "                       )\n",
    "\n",
    "    def test_keys_WithRecords(self):\n",
    "        record = self.dummycase()\n",
    "        xy = XyDB()\n",
    "        xy.push(**record)\n",
    "        xy.keys\n",
    "        \n",
    "    def test_db_IsDict(self):\n",
    "        record = self.dummycase()\n",
    "        xy = self.push_record_noschema(record) \n",
    "        self.assertTrue(type(xy.db)==dict)\n",
    "        \n",
    "    def test_otherattributes(self):\n",
    "        record = self.dummycase()\n",
    "        schema = self.mockschema()\n",
    "        xy = self.push_record_w_schema(record, schema) \n",
    "        xy._update\n",
    "if __name__ == '__main__':\n",
    "    unittest.main()       "
   ]
  },
  {
   "cell_type": "markdown",
   "metadata": {
    "collapsed": true
   },
   "source": [
    "#### Testing"
   ]
  },
  {
   "cell_type": "code",
   "execution_count": 18,
   "metadata": {
    "ExecuteTime": {
     "end_time": "2016-11-03T16:10:22.656145",
     "start_time": "2016-11-03T16:10:21.740656"
    },
    "collapsed": false
   },
   "outputs": [
    {
     "name": "stdout",
     "output_type": "stream",
     "text": [
      "..............\n",
      "Name                Stmts   Miss  Cover\n",
      "---------------------------------------\n",
      "ruxitools.py            0      0   100%\n",
      "ruxitools/xydb.py      44      2    95%\n",
      "---------------------------------------\n",
      "TOTAL                  44      2    95%\n",
      "----------------------------------------------------------------------\n",
      "Ran 14 tests in 0.026s\n",
      "\n",
      "OK\n"
     ]
    }
   ],
   "source": [
    "!nosetests --tests=tests --with-coverage  #conda install nose, coverage"
   ]
  },
  {
   "cell_type": "code",
   "execution_count": 20,
   "metadata": {
    "ExecuteTime": {
     "end_time": "2016-11-03T16:17:50.689225",
     "start_time": "2016-11-03T16:17:50.319986"
    },
    "collapsed": false
   },
   "outputs": [
    {
     "name": "stdout",
     "output_type": "stream",
     "text": [
      "Name                                              Stmts   Miss  Cover   Missing\n",
      "-------------------------------------------------------------------------------\n",
      "ruxitools/__init__.py                                 0      0   100%\n",
      "ruxitools/xydb.py                                    44      2    95%   87, 94\n",
      "tests/test_xydb.py                                   96      1    99%   133\n",
      "-------------------------------------------------------------------------------\n",
      "TOTAL                                               140      3    98%\n"
     ]
    }
   ],
   "source": [
    "!coverage report -mi #conda install nose, coverage"
   ]
  },
  {
   "cell_type": "markdown",
   "metadata": {},
   "source": [
    "## Repository set-up"
   ]
  },
  {
   "cell_type": "markdown",
   "metadata": {
    "ExecuteTime": {
     "end_time": "2016-10-28T13:26:15.000538",
     "start_time": "2016-10-28T13:26:14.995075"
    }
   },
   "source": [
    "### setup.py"
   ]
  },
  {
   "cell_type": "markdown",
   "metadata": {},
   "source": [
    "Format based on [minimal example](https://python-packaging.readthedocs.io/en/latest/minimal.html)"
   ]
  },
  {
   "cell_type": "markdown",
   "metadata": {},
   "source": [
    "[ReadTheDocs setuptools](https://setuptools.readthedocs.io/en/latest/)"
   ]
  },
  {
   "cell_type": "code",
   "execution_count": null,
   "metadata": {
    "ExecuteTime": {
     "end_time": "2016-11-03T16:18:06.797601",
     "start_time": "2016-11-03T16:18:06.628399"
    },
    "collapsed": false
   },
   "outputs": [],
   "source": [
    "# %load setup.py\n",
    "from setuptools import setup, find_packages\n",
    "import sys \n",
    "\n",
    "if sys.version_info[:2]<(3,5):\n",
    "    sys.exit(\"ruxitools requires python 3.5 or higher\")\n",
    "    \n",
    "# defining variables\n",
    "install_requires = []\n",
    "\n",
    "tests_require = [\n",
    "                      'mock'\n",
    "                    , 'nose'\n",
    "                ]\n",
    "\n",
    "# How mature is this project? Common values are\n",
    "#   3 - Alpha\n",
    "#   4 - Beta\n",
    "#   5 - Production/Stable\n",
    "\n",
    "classifier = [\n",
    "                \"Programming Language :: Python\",\n",
    "                'Development Status :: 3 - Alpha', \n",
    "                'Intended Audience :: Developers',\n",
    "                'Intended Audience :: Science/Research',\n",
    "                'License :: OSI Approved :: MIT License',\n",
    "                'Natural Language :: English',\n",
    "                'Operating System :: Unix',\n",
    "                'Programming Language :: Python :: 3 :: Only'\n",
    "             ] \n",
    "\n",
    "keywords='ruxi tools ruxitools xydb intermediate data containers',\n",
    "    \n",
    "# setup   \n",
    "setup(\n",
    "      name='ruxitools'\n",
    "    , version=\"0.2.6\"\n",
    "    , description=\"Misc general use functions. XyDB: container fo intermediate data. \"\n",
    "    , url=\"http://github.com/ruxi/tools\"\n",
    "    , author=\"ruxi\"\n",
    "    , author_email=\"ruxi.github@gmail.com\"\n",
    "    , license=\"MIT\"\n",
    "    , packages=find_packages()#['ruxitools']\n",
    "    , tests_require=tests_require\n",
    "    , test_suite= 'nose.collector'\n",
    "    , classifiers = classifier\n",
    "    , keywords=keywords\n",
    "    )\n"
   ]
  },
  {
   "cell_type": "markdown",
   "metadata": {
    "ExecuteTime": {
     "end_time": "2016-10-28T17:31:07.179566",
     "start_time": "2016-10-28T17:31:07.171751"
    },
    "collapsed": false
   },
   "source": [
    "#### register & upload to PyPi \n",
    "\n",
    "[Docs on python wheels (needed for pip)](https://packaging.python.org/distributing/#universal-wheels)\n",
    "\n",
    "[recommended way reigster and upload](https://packaging.python.org/distributing/#register-your-project)\n",
    "\n",
    "```bash \n",
    "python setup.py register # Not recommended, but did it this way. See guide\n",
    "```\n",
    "\n",
    "Create source distribution\n",
    "```\n",
    "python setup.py sdist\n",
    "```\n",
    "\n",
    "Create build distribution (python wheels for pip)\n",
    "\n",
    "```bash\n",
    "python setup.py bdist_wheel\n",
    "```\n",
    "\n",
    "Upload distribution\n",
    "\n",
    "```bash\n",
    "twine upload dist/* # pip install twine\n",
    "```"
   ]
  },
  {
   "cell_type": "markdown",
   "metadata": {
    "collapsed": false
   },
   "source": [
    "All together\n",
    "\n",
    "```bash\n",
    "python setup.py sdist\n",
    "python setup.py bdist_wheel\n",
    "twine upload dist/*\n",
    "```"
   ]
  },
  {
   "cell_type": "markdown",
   "metadata": {
    "collapsed": false
   },
   "source": [
    "### README.md"
   ]
  },
  {
   "cell_type": "code",
   "execution_count": null,
   "metadata": {
    "ExecuteTime": {
     "end_time": "2016-11-03T16:20:12.673623",
     "start_time": "2016-11-03T16:20:12.665285"
    },
    "collapsed": false
   },
   "outputs": [],
   "source": [
    "# %load README.md\n",
    "# ruxitools\n",
    "\n",
    "Miscellaneous tools.\n",
    "\n",
    "# Installation\n",
    "\n",
    "method1:\n",
    "    \n",
    "    pip install -e git+https://github.com/ruxi/tools.git\n",
    " \n",
    "method2:\n",
    "    git clone https://github.com/ruxi/tools.git\n",
    "    cd tools\n",
    "    python setup.py install\n",
    "    python setup.py tests\n",
    "    \n",
    "\n",
    "# Modules\n",
    "\n",
    "## XyDB: a container for intermediate data\n",
    "    \n",
    "XyDB is used to organize intermediate data by attaching it to the source dataset. \n",
    "It solves the problem of namespace pollution, especially if many intermediate\n",
    "datasets are derived from the source.\n",
    "    \n",
    "Usage:\n",
    "        \n",
    "    ```python\n",
    "\n",
    "    from ruxitools.xydb import XyDB\n",
    "\n",
    "    # attach container to source data\n",
    "    mydata.Xy = XyDB()\n",
    "\n",
    "    # store intermediate info & documentation into the containers\n",
    "    mydata.Xy.push(dict(\n",
    "                            key=\"config1\"           # keyword\n",
    "                          , X=[mydata*2]            # intermediate data\n",
    "                          , desc = \"multiply by 2\"  # description of operation\n",
    "                  ))\n",
    "\n",
    "    # To retrieve intermediate data as a dict:\n",
    "    mydata.Xy.pull.config1 \n",
    "\n",
    "    # To retrieve intermediate data as attributes:\n",
    "    mydata.Xy.show.config1.desc\n",
    "\n",
    "    # To show keys\n",
    "    mydata.Xy.keys\n",
    "    ```\n",
    "\n",
    "# TODO:\n",
    "\n",
    " requirements.txt - not sure if it works\n",
    " "
   ]
  },
  {
   "cell_type": "markdown",
   "metadata": {},
   "source": [
    "### MANIFEST.in\n",
    "\n",
    "[packaging.python manifest.ini docs](https://packaging.python.org/distributing/#manifest-in)"
   ]
  },
  {
   "cell_type": "code",
   "execution_count": null,
   "metadata": {
    "ExecuteTime": {
     "end_time": "2016-11-03T16:20:23.837221",
     "start_time": "2016-11-03T16:20:23.829331"
    },
    "collapsed": false
   },
   "outputs": [],
   "source": [
    "# %load MANIFEST.in\n",
    "include README.md\n",
    "include LICENSE"
   ]
  },
  {
   "cell_type": "code",
   "execution_count": null,
   "metadata": {
    "ExecuteTime": {
     "end_time": "2016-11-03T16:20:32.715757",
     "start_time": "2016-11-03T16:20:32.706555"
    },
    "collapsed": false
   },
   "outputs": [],
   "source": [
    "# %load LICENSE\n",
    "MIT License\n",
    "\n",
    "Copyright (c) 2016 github.com/ruxi\n",
    "\n",
    "Permission is hereby granted, free of charge, to any person obtaining a copy\n",
    "of this software and associated documentation files (the \"Software\"), to deal\n",
    "in the Software without restriction, including without limitation the rights\n",
    "to use, copy, modify, merge, publish, distribute, sublicense, and/or sell\n",
    "copies of the Software, and to permit persons to whom the Software is\n",
    "furnished to do so, subject to the following conditions:\n",
    "\n",
    "The above copyright notice and this permission notice shall be included in all\n",
    "copies or substantial portions of the Software.\n",
    "\n",
    "THE SOFTWARE IS PROVIDED \"AS IS\", WITHOUT WARRANTY OF ANY KIND, EXPRESS OR\n",
    "IMPLIED, INCLUDING BUT NOT LIMITED TO THE WARRANTIES OF MERCHANTABILITY,\n",
    "FITNESS FOR A PARTICULAR PURPOSE AND NONINFRINGEMENT. IN NO EVENT SHALL THE\n",
    "AUTHORS OR COPYRIGHT HOLDERS BE LIABLE FOR ANY CLAIM, DAMAGES OR OTHER\n",
    "LIABILITY, WHETHER IN AN ACTION OF CONTRACT, TORT OR OTHERWISE, ARISING FROM,\n",
    "OUT OF OR IN CONNECTION WITH THE SOFTWARE OR THE USE OR OTHER DEALINGS IN THE\n",
    "SOFTWARE."
   ]
  },
  {
   "cell_type": "markdown",
   "metadata": {},
   "source": [
    "## Repository testing"
   ]
  },
  {
   "cell_type": "markdown",
   "metadata": {},
   "source": [
    "```bash\n",
    "python setup.py test\n",
    "```"
   ]
  },
  {
   "cell_type": "code",
   "execution_count": 32,
   "metadata": {
    "ExecuteTime": {
     "end_time": "2016-11-03T16:23:12.932558",
     "start_time": "2016-11-03T16:23:12.927648"
    },
    "collapsed": false
   },
   "outputs": [],
   "source": [
    "#!python setup.py test"
   ]
  },
  {
   "cell_type": "markdown",
   "metadata": {},
   "source": [
    "### TravisCI"
   ]
  },
  {
   "cell_type": "markdown",
   "metadata": {},
   "source": [
    "- [For continuous integration testing](https://docs.travis-ci.com/user/for-beginners)\n",
    "- [Hitchhiker's guide to Python: Travis-CI](http://docs.python-guide.org/en/latest/scenarios/ci/)\n",
    "- [travisCI official docs](https://docs.travis-ci.com/user/languages/python/)"
   ]
  },
  {
   "cell_type": "code",
   "execution_count": null,
   "metadata": {
    "ExecuteTime": {
     "end_time": "2016-11-03T16:20:47.316245",
     "start_time": "2016-11-03T16:20:47.309256"
    },
    "collapsed": false
   },
   "outputs": [],
   "source": [
    "# %load .travis.yml\n",
    "os: linux\n",
    "language: python\n",
    "python:\n",
    " - 3.5\n",
    "\n",
    "# command to install dependencies\n",
    "install: \n",
    "- \"pip install -r requirements.txt\"\n",
    "- \"pip install .\"\n",
    "    \n",
    "# command to run tests\n",
    "script: nosetests"
   ]
  },
  {
   "cell_type": "markdown",
   "metadata": {},
   "source": [
    "## TODO:\n",
    "\n",
    "- XyDB: use sys.getsizeof(object) to address if dictionary gets too big. If so, write to file. \n",
    "   - look into [shelve for on-disk solution](http://stackoverflow.com/questions/226693/python-disk-based-dictionary)\n",
    "   - here is another solution with sqlite [dbdict](http://sebsauvage.net/python/snyppets/index.html#dbdict). Not sure if you can store classes and other more complex object. Had problems with SQLacademy"
   ]
  },
  {
   "cell_type": "code",
   "execution_count": null,
   "metadata": {
    "collapsed": true
   },
   "outputs": [],
   "source": []
  }
 ],
 "metadata": {
  "_draft": {
   "nbviewer_url": "https://gist.github.com/db52a47816c1f27d4191ecaf0147db6c"
  },
  "gist": {
   "data": {
    "description": "[Function] XyDB.ipynb",
    "public": false
   },
   "id": "db52a47816c1f27d4191ecaf0147db6c"
  },
  "hide_input": false,
  "kernelspec": {
   "display_name": "pythonpath (python)",
   "language": "python",
   "name": "pythonpathkernel"
  },
  "language_info": {
   "codemirror_mode": {
    "name": "ipython",
    "version": 3
   },
   "file_extension": ".py",
   "mimetype": "text/x-python",
   "name": "python",
   "nbconvert_exporter": "python",
   "pygments_lexer": "ipython3",
   "version": "3.5.2"
  },
  "latex_envs": {
   "bibliofile": "biblio.bib",
   "cite_by": "apalike",
   "current_citInitial": 1,
   "eqLabelWithNumbers": true,
   "eqNumInitial": 0
  },
  "nav_menu": {
   "height": "899px",
   "width": "484px"
  },
  "toc": {
   "navigate_menu": true,
   "number_sections": true,
   "sideBar": true,
   "threshold": 6,
   "toc_cell": false,
   "toc_section_display": "block",
   "toc_window_display": true
  },
  "toc_position": {
   "height": "1180px",
   "left": "0px",
   "right": "2175px",
   "top": "107px",
   "width": "385px"
  }
 },
 "nbformat": 4,
 "nbformat_minor": 0
}
